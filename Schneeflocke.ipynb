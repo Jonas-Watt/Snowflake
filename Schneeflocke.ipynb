{
 "cells": [
  {
   "cell_type": "code",
   "execution_count": 1,
   "metadata": {},
   "outputs": [],
   "source": [
    "import numpy as np\n",
    "import matplotlib.pyplot as plt"
   ]
  },
  {
   "cell_type": "code",
   "execution_count": 2,
   "metadata": {},
   "outputs": [],
   "source": [
    "map = (9, 9)\n",
    "nuc = np.array([[5, 5]])\n",
    "all_mol = []"
   ]
  },
  {
   "cell_type": "code",
   "execution_count": 48,
   "metadata": {},
   "outputs": [],
   "source": [
    "class Molecule:\n",
    "    def __init__(self):\n",
    "        self.pos = [self.spawn()]\n",
    "        \n",
    "    def spawn(self):\n",
    "        global all_mol\n",
    "        while True:\n",
    "            pos = np.array([np.random.randint(0, map[0] + 1), np.random.randint(0, map[1] + 1)])\n",
    "            if any([any([i.all() for i in pos == mol.pos]) for mol in all_mol]):\n",
    "                continue\n",
    "            return pos\n",
    "        \n",
    "    def nextto(self):\n",
    "        global all_mo\n",
    "        neighb = [[[abs((j - i)[0]) + abs((j - i)[1]) == 1 for i in mol.pos] for mol in all_mol] for j in self.pos]\n",
    "        candidates = []\n",
    "        for j in neighb:\n",
    "            for mol in range(0, len(j) - 1):\n",
    "                if any(j[mol]):\n",
    "                    candidates.append(mol)\n",
    "        candidates.reverse()\n",
    "        for i in candidates:\n",
    "            for j in all_mol[i].pos:\n",
    "                self.pos.append(j)\n",
    "            del all_mol[i]\n",
    "        \n",
    "    def move(self):\n",
    "        dir = np.array([np.random.choice([-1, 1]), np.random.choice([-1, 1])])\n",
    "        self.pos += dir"
   ]
  },
  {
   "cell_type": "code",
   "execution_count": 49,
   "metadata": {},
   "outputs": [],
   "source": [
    "all_mol = []\n",
    "\n",
    "for i in range(50):\n",
    "    new_mol = Molecule()\n",
    "    all_mol.append(new_mol)"
   ]
  },
  {
   "cell_type": "code",
   "execution_count": 50,
   "metadata": {},
   "outputs": [],
   "source": [
    "for i in all_mol:\n",
    "    i.nextto()"
   ]
  },
  {
   "cell_type": "code",
   "execution_count": 51,
   "metadata": {},
   "outputs": [],
   "source": [
    "all_pos = []\n",
    "\n",
    "for mol in all_mol:\n",
    "    all_pos.append(mol.pos)"
   ]
  },
  {
   "cell_type": "code",
   "execution_count": 52,
   "metadata": {},
   "outputs": [
    {
     "data": {
      "text/plain": [
       "21"
      ]
     },
     "execution_count": 52,
     "metadata": {},
     "output_type": "execute_result"
    }
   ],
   "source": [
    "len(all_pos)"
   ]
  },
  {
   "cell_type": "code",
   "execution_count": 53,
   "metadata": {},
   "outputs": [
    {
     "data": {
      "text/plain": [
       "50"
      ]
     },
     "execution_count": 53,
     "metadata": {},
     "output_type": "execute_result"
    }
   ],
   "source": [
    "len([item for sublist in all_pos for item in sublist])"
   ]
  },
  {
   "cell_type": "code",
   "execution_count": 54,
   "metadata": {},
   "outputs": [
    {
     "data": {
      "text/plain": [
       "[[array([0, 8]), array([0, 9])],\n",
       " [array([5, 3]), array([4, 3]), array([5, 4]), array([5, 2])],\n",
       " [array([1, 1])],\n",
       " [array([6, 1]), array([6, 0])],\n",
       " [array([0, 0])],\n",
       " [array([7, 7]), array([7, 6])],\n",
       " [array([0, 6])],\n",
       " [array([2, 2])],\n",
       " [array([7, 9]), array([8, 9])],\n",
       " [array([0, 4])],\n",
       " [array([8, 2]),\n",
       "  array([8, 3]),\n",
       "  array([8, 0]),\n",
       "  array([7, 0]),\n",
       "  array([9, 0]),\n",
       "  array([8, 1])],\n",
       " [array([4, 2])],\n",
       " [array([9, 7]), array([9, 8])],\n",
       " [array([3, 6])],\n",
       " [array([8, 5]),\n",
       "  array([9, 5]),\n",
       "  array([8, 6]),\n",
       "  array([6, 5]),\n",
       "  array([5, 5]),\n",
       "  array([7, 4]),\n",
       "  array([7, 3]),\n",
       "  array([7, 5])],\n",
       " [array([1, 9])],\n",
       " [array([2, 0])],\n",
       " [array([1, 5]),\n",
       "  array([1, 7]),\n",
       "  array([2, 7]),\n",
       "  array([1, 6]),\n",
       "  array([2, 4]),\n",
       "  array([2, 5])],\n",
       " [array([3, 1])],\n",
       " [array([5, 0])],\n",
       " [array([4, 9]), array([5, 9]), array([4, 8]), array([3, 8]), array([5, 8])]]"
      ]
     },
     "execution_count": 54,
     "metadata": {},
     "output_type": "execute_result"
    }
   ],
   "source": [
    "all_pos"
   ]
  },
  {
   "cell_type": "code",
   "execution_count": 55,
   "metadata": {},
   "outputs": [
    {
     "data": {
      "image/png": "[encoded data removed]",
      "text/plain": [
       "<Figure size 288x288 with 1 Axes>"
      ]
     },
     "metadata": {
      "needs_background": "light"
     },
     "output_type": "display_data"
    }
   ],
   "source": [
    "plt.figure(figsize=(4, 4))\n",
    "plt.scatter(*np.array([item for sublist in all_pos for item in sublist]).T, marker = 's')\n",
    "plt.axis([-1, map[0]+1, -1, map[0]+1])\n",
    "plt.show()"
   ]
  },
  {
   "cell_type": "code",
   "execution_count": null,
   "metadata": {},
   "outputs": [],
   "source": []
  }
 ],
 "metadata": {
  "kernelspec": {
   "display_name": "Python 3",
   "language": "python",
   "name": "python3"
  },
  "language_info": {
   "codemirror_mode": {
    "name": "ipython",
    "version": 3
   },
   "file_extension": ".py",
   "mimetype": "text/x-python",
   "name": "python",
   "nbconvert_exporter": "python",
   "pygments_lexer": "ipython3",
   "version": "3.8.5"
  }
 },
 "nbformat": 4,
 "nbformat_minor": 4
}
