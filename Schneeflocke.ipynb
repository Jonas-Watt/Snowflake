{
 "cells": [
  {
   "cell_type": "code",
   "execution_count": 1,
   "metadata": {},
   "outputs": [],
   "source": [
    "import numpy as np\n",
    "import matplotlib.pyplot as plt"
   ]
  },
  {
   "cell_type": "code",
   "execution_count": 2,
   "metadata": {},
   "outputs": [],
   "source": [
    "map = (9, 9)\n",
    "nuc = np.array([[5, 5]])\n",
    "all_mol = []"
   ]
  },
  {
   "cell_type": "code",
   "execution_count": 133,
   "metadata": {},
   "outputs": [],
   "source": [
    "class Molecule:\n",
    "    def __init__(self):\n",
    "        self.pos = [self.spawn()]\n",
    "        \n",
    "    def spawn(self):\n",
    "        global all_mol\n",
    "        while True:\n",
    "            pos = np.array([np.random.randint(0,10), np.random.randint(0,10)])\n",
    "            if any([any([i.all() for i in pos == mol.pos]) for mol in all_mol]):\n",
    "                continue\n",
    "            return pos\n",
    "        \n",
    "    def move(self):\n",
    "        dir = np.array([np.random.choice([-1, 1]), np.random.choice([-1, 1])])\n",
    "        self.pos += dir"
   ]
  },
  {
   "cell_type": "code",
   "execution_count": 142,
   "metadata": {},
   "outputs": [],
   "source": [
    "all_mol = []\n",
    "\n",
    "for i in range(10):\n",
    "    new_mol = Molecule()\n",
    "    all_mol.append(new_mol)"
   ]
  },
  {
   "cell_type": "code",
   "execution_count": 144,
   "metadata": {},
   "outputs": [],
   "source": [
    "all_pos = []\n",
    "\n",
    "for mol in all_mol:\n",
    "    all_pos.append(mol.pos)"
   ]
  },
  {
   "cell_type": "code",
   "execution_count": 146,
   "metadata": {},
   "outputs": [
    {
     "data": {
      "text/plain": [
       "[[array([7, 9])],\n",
       " [array([3, 2])],\n",
       " [array([3, 4])],\n",
       " [array([7, 3])],\n",
       " [array([8, 9])],\n",
       " [array([1, 4])],\n",
       " [array([6, 8])],\n",
       " [array([2, 6])],\n",
       " [array([5, 5])],\n",
       " [array([9, 5])]]"
      ]
     },
     "execution_count": 146,
     "metadata": {},
     "output_type": "execute_result"
    }
   ],
   "source": [
    "all_pos"
   ]
  },
  {
   "cell_type": "code",
   "execution_count": 121,
   "metadata": {},
   "outputs": [
    {
     "name": "stdout",
     "output_type": "stream",
     "text": [
      "[[4 4]]\n",
      "None\n",
      "[[3 5]]\n"
     ]
    }
   ],
   "source": [
    "print(all_mol[0].pos)\n",
    "print(all_mol[0].move())\n",
    "print(all_mol[0].pos)"
   ]
  }
 ],
 "metadata": {
  "kernelspec": {
   "display_name": "Python 3",
   "language": "python",
   "name": "python3"
  },
  "language_info": {
   "codemirror_mode": {
    "name": "ipython",
    "version": 3
   },
   "file_extension": ".py",
   "mimetype": "text/x-python",
   "name": "python",
   "nbconvert_exporter": "python",
   "pygments_lexer": "ipython3",
   "version": "3.8.5"
  }
 },
 "nbformat": 4,
 "nbformat_minor": 4
}
