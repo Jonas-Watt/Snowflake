{
 "cells": [
  {
   "cell_type": "code",
   "execution_count": 1,
   "metadata": {},
   "outputs": [],
   "source": [
    "import numpy as np\n",
    "import matplotlib.pyplot as plt"
   ]
  },
  {
   "cell_type": "code",
   "execution_count": 42,
   "metadata": {},
   "outputs": [],
   "source": [
    "map = (100, 100)\n",
    "nuc = np.array([[5, 5]])\n",
    "all_mol = []"
   ]
  },
  {
   "cell_type": "code",
   "execution_count": 43,
   "metadata": {},
   "outputs": [],
   "source": [
    "class Molecule:\n",
    "    def __init__(self):\n",
    "        self.pos = [self.spawn()]\n",
    "        \n",
    "    def spawn(self):\n",
    "        global all_mol\n",
    "        while True:\n",
    "            pos = np.array([np.random.randint(0, map[0] + 1), np.random.randint(0, map[1] + 1)])\n",
    "            if any([any([i.all() for i in pos == mol.pos]) for mol in all_mol]):\n",
    "                continue\n",
    "            return pos\n",
    "        \n",
    "    def cluster(self):\n",
    "        i = 0\n",
    "        while i != len(self.pos):\n",
    "            self.merge_neighb(i)\n",
    "            i += 1\n",
    "        \n",
    "    def merge_neighb(self, which_mol):\n",
    "        \n",
    "        # Nur alle über which_mol???\n",
    "        \n",
    "        global all_mol\n",
    "        pos_list = [i.pos for i in all_mol]\n",
    "        \n",
    "        # Maybe without str()\n",
    "        pos_list_wo = [i for i in pos_list if str(i) != str(self.pos)]\n",
    "        \n",
    "        neighb = [[(abs((self.pos[which_mol] - i)[0]) + abs((self.pos[which_mol] - i)[1])) == 1 for i in mol] for mol in pos_list_wo]\n",
    "        candidates = []\n",
    "        for mol in range(0, len(neighb) - 1):\n",
    "            if any(neighb[mol]):\n",
    "                candidates.append(mol + 1)\n",
    "        candidates.reverse()\n",
    "        for i in candidates:\n",
    "            for j in all_mol[i].pos:\n",
    "                self.pos.append(j)\n",
    "            del all_mol[i]\n",
    "        \n",
    "    def move(self):\n",
    "        dir = np.array([np.random.choice([-1, 1]), np.random.choice([-1, 1])])\n",
    "        self.pos += dir"
   ]
  },
  {
   "cell_type": "code",
   "execution_count": 51,
   "metadata": {},
   "outputs": [],
   "source": [
    "# spawnt alles Moleküle\n",
    "\n",
    "all_mol = []\n",
    "\n",
    "for i in range(1000):\n",
    "    new_mol = Molecule()\n",
    "    all_mol.append(new_mol)"
   ]
  },
  {
   "cell_type": "code",
   "execution_count": 52,
   "metadata": {},
   "outputs": [],
   "source": [
    "# vereint benachbarte Moleküle\n",
    "\n",
    "i = 0\n",
    "while i < len(all_mol): # <, da der letzte keinen Nachbarn ahben kann, bzw. schon alle hat\n",
    "    all_mol[i].cluster()\n",
    "    i += 1\n",
    "    "
   ]
  },
  {
   "cell_type": "code",
   "execution_count": 53,
   "metadata": {},
   "outputs": [],
   "source": [
    "all_pos = []\n",
    "\n",
    "for mol in all_mol:\n",
    "    all_pos.append(mol.pos)"
   ]
  },
  {
   "cell_type": "code",
   "execution_count": 61,
   "metadata": {},
   "outputs": [
    {
     "data": {
      "text/plain": [
       "823"
      ]
     },
     "execution_count": 61,
     "metadata": {},
     "output_type": "execute_result"
    }
   ],
   "source": [
    "len(all_pos)"
   ]
  },
  {
   "cell_type": "code",
   "execution_count": 56,
   "metadata": {},
   "outputs": [
    {
     "data": {
      "image/png": "[encoded data removed]",
      "text/plain": [
       "<Figure size 1080x1080 with 1 Axes>"
      ]
     },
     "metadata": {
      "needs_background": "light"
     },
     "output_type": "display_data"
    }
   ],
   "source": [
    "# Visualisiert die Moleküle\n",
    "\n",
    "plt.figure(figsize=(15, 15))\n",
    "plt.scatter(*np.array([item for sublist in all_pos for item in sublist]).T, marker = 's')\n",
    "plt.axis([-1, map[0]+1, -1, map[0]+1])\n",
    "plt.show()"
   ]
  },
  {
   "cell_type": "code",
   "execution_count": null,
   "metadata": {},
   "outputs": [],
   "source": []
  }
 ],
 "metadata": {
  "kernelspec": {
   "display_name": "Python 3",
   "language": "python",
   "name": "python3"
  },
  "language_info": {
   "codemirror_mode": {
    "name": "ipython",
    "version": 3
   },
   "file_extension": ".py",
   "mimetype": "text/x-python",
   "name": "python",
   "nbconvert_exporter": "python",
   "pygments_lexer": "ipython3",
   "version": "3.8.5"
  }
 },
 "nbformat": 4,
 "nbformat_minor": 4
}
