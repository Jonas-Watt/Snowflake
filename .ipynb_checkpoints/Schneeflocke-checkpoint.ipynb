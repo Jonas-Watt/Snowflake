{
 "cells": [
  {
   "cell_type": "code",
   "execution_count": 8,
   "metadata": {},
   "outputs": [],
   "source": [
    "import numpy as np\n",
    "import matplotlib.pyplot as plt\n",
    "from IPython.display import clear_output\n",
    "import copy"
   ]
  },
  {
   "cell_type": "code",
   "execution_count": 9,
   "metadata": {},
   "outputs": [],
   "source": [
    "map = (5, 5)\n",
    "nuc = [np.array([round(map[0]/2), round(map[1]/2)])]\n",
    "all_mol = []\n",
    "all_pos = []"
   ]
  },
  {
   "cell_type": "code",
   "execution_count": 10,
   "metadata": {},
   "outputs": [],
   "source": [
    "class Molecule:\n",
    "    def __init__(self):\n",
    "        self.pos = [self.spawn()]\n",
    "        \n",
    "    def spawn(self):\n",
    "        global all_mol\n",
    "        while True:\n",
    "            pos = np.array([round(map[0]/2), round(map[1]/2)])\n",
    "            while all(pos == nuc[0]):\n",
    "                pos = np.array([np.random.randint(0, map[0] + 1), np.random.randint(0, map[1] + 1)])\n",
    "            if any([any([i.all() for i in pos == mol.pos]) for mol in all_mol]):\n",
    "                continue\n",
    "            return pos\n",
    "        \n",
    "    def cluster(self, index):\n",
    "        i = 0\n",
    "        while i < len(self.pos):\n",
    "            self.merge_neighb(i, index)\n",
    "            i += 1\n",
    "        \n",
    "    def merge_neighb(self, which_mol, index):\n",
    "        global all_mol\n",
    "        short_pos_list = [all_mol[i].pos for i in range(index + 1, len(all_mol))]\n",
    "        neighb = [[(abs((self.pos[which_mol] - i)[0]) + abs((self.pos[which_mol] - i)[1])) == 1\n",
    "                   for i in mol] for mol in short_pos_list]\n",
    "        candidates = []\n",
    "        for mol in range(0, len(neighb)):\n",
    "            if any(neighb[mol]):\n",
    "                candidates.append(mol + index + 1)\n",
    "        candidates.reverse()\n",
    "        for i in candidates:\n",
    "            for j in all_mol[i].pos:\n",
    "                self.pos.append(j)\n",
    "            del all_mol[i]\n",
    "            \n",
    "    ####################################################################################\n",
    "    \n",
    "    def cluster_all(self, index):\n",
    "        i = 0\n",
    "        print(\"self.pos: \",self.pos, \"index: \", index)\n",
    "        while i != len(self.pos):\n",
    "            print(\"element: \", i, self.pos[i])\n",
    "            i += self.merge_neighb_all(i, index)\n",
    "            #self.merge_neighb_all(i, index)\n",
    "            i += 1\n",
    "            \n",
    "    def merge_neighb_all(self, which_mol, index):\n",
    "        global all_mol\n",
    "        short_pos_list = [all_mol[i].pos for i in range(0, len(all_mol)) if i != index]\n",
    "        print(\"short list: \",short_pos_list)\n",
    "        neighb = [[(abs((self.pos[which_mol] - i)[0]) + abs((self.pos[which_mol] - i)[1])) == 1\n",
    "                   for i in mol] for mol in short_pos_list]\n",
    "        candidates = []\n",
    "        for mol in range(0, len(neighb)):\n",
    "            if any(neighb[mol]):\n",
    "                # der Kandidat kann vor dem Molekül sein, also nicht + 1\n",
    "                if mol < index:\n",
    "                    candidates.append(mol)\n",
    "                else:\n",
    "                    candidates.append(mol + 1)\n",
    "        print(\"candidates: \",candidates, [all_mol[i].pos for i in candidates])\n",
    "        candidates.reverse()\n",
    "        for i in candidates:\n",
    "            [self.pos.append(j) for j in all_mol[i].pos]\n",
    "        for i in candidates:\n",
    "            del all_mol[i]\n",
    "        counter = 0\n",
    "        for i in candidates:\n",
    "            if i <= index:\n",
    "                counter -= 1\n",
    "        return counter\n",
    "        \n",
    "    def move(self):\n",
    "        global all_pos\n",
    "        if np.random.rand() > 0.5:\n",
    "            dir = np.array([0, np.random.choice([-1, 1])])\n",
    "        else:\n",
    "            dir = np.array([np.random.choice([-1, 1]), 0])\n",
    "        pot_pos = copy.deepcopy(self.pos)\n",
    "        for i in pot_pos:\n",
    "            i += dir\n",
    "        if sum([any([any([i.all() for i in pos == mol.pos]) for pos in pot_pos]) for mol in all_mol]) <= 1:\n",
    "            self.pos = pot_pos\n",
    "        "
   ]
  },
  {
   "cell_type": "code",
   "execution_count": 11,
   "metadata": {},
   "outputs": [],
   "source": [
    "# nicht gleich, sondern next to\n",
    "def merge_nucleus(nuc, all_mol):\n",
    "    for mol in all_mol:\n",
    "        for pos_mol in mol.pos:\n",
    "            for pos in nuc: \n",
    "                if (abs(pos[0] - pos_mol[0]) + abs(pos[1] - pos_mol[1])) == 1:\n",
    "                    [nuc.append(i) for i in mol.pos]\n",
    "                    del all_mol[all_mol.index(mol)]\n",
    "                    return"
   ]
  },
  {
   "cell_type": "code",
   "execution_count": 12,
   "metadata": {},
   "outputs": [],
   "source": [
    "# Visualisiert die Moleküle\n",
    "def plot():\n",
    "    print(len(all_pos))\n",
    "    plt.figure(figsize=(3, 3))\n",
    "    plt.plot(*np.array([item for sublist in all_pos for item in sublist]).T, 'bs', *np.array(nuc).T, 'rs', *np.array(all_pos[0]).T, 'gs')\n",
    "    #plt.scatter(*np.array([item for sublist in nuc for item in sublist]).T, marker = 's')\n",
    "    #plt.axis([-1, map[0]+1, -1, map[0]+1])\n",
    "    plt.show()"
   ]
  },
  {
   "cell_type": "code",
   "execution_count": 13,
   "metadata": {},
   "outputs": [],
   "source": [
    "def cluster(all_mol):\n",
    "    i = 0\n",
    "    while i < len(all_mol):\n",
    "        all_mol[i].cluster(i)\n",
    "        i += 1\n",
    "        \n",
    "def step(all_mol):\n",
    "    i = 0\n",
    "    while i < len(all_mol):\n",
    "        all_mol[i].move()\n",
    "        all_mol[i].cluster_all(i)\n",
    "        i += 1"
   ]
  },
  {
   "cell_type": "code",
   "execution_count": 14,
   "metadata": {},
   "outputs": [],
   "source": [
    "def pos_list(all_pos):\n",
    "    all_pos.clear()\n",
    "    for mol in all_mol:\n",
    "        all_pos.append(mol.pos)"
   ]
  },
  {
   "cell_type": "code",
   "execution_count": 15,
   "metadata": {},
   "outputs": [],
   "source": [
    "# spawnt alles Moleküle\n",
    "\n",
    "all_mol = []\n",
    "\n",
    "for i in range(15):\n",
    "    new_mol = Molecule()\n",
    "    all_mol.append(new_mol)"
   ]
  },
  {
   "cell_type": "code",
   "execution_count": 16,
   "metadata": {},
   "outputs": [],
   "source": [
    "# vereint benachbarte Moleküle\n",
    "\n",
    "cluster(all_mol)"
   ]
  },
  {
   "cell_type": "code",
   "execution_count": 17,
   "metadata": {},
   "outputs": [],
   "source": [
    "nuc = [np.array([round(map[0]/2), round(map[1]/2)])]\n",
    "pos_list(all_pos)"
   ]
  },
  {
   "cell_type": "code",
   "execution_count": 18,
   "metadata": {},
   "outputs": [
    {
     "data": {
      "text/plain": [
       "[[array([1, 1]), array([0, 1]), array([0, 0])],\n",
       " [array([5, 1])],\n",
       " [array([4, 2]),\n",
       "  array([4, 3]),\n",
       "  array([3, 3]),\n",
       "  array([2, 3]),\n",
       "  array([3, 4]),\n",
       "  array([3, 5]),\n",
       "  array([2, 5])],\n",
       " [array([5, 5])],\n",
       " [array([3, 1])],\n",
       " [array([1, 4])],\n",
       " [array([0, 3])]]"
      ]
     },
     "execution_count": 18,
     "metadata": {},
     "output_type": "execute_result"
    }
   ],
   "source": [
    "#pos_list(all_pos)\n",
    "all_pos"
   ]
  },
  {
   "cell_type": "code",
   "execution_count": 19,
   "metadata": {},
   "outputs": [
    {
     "name": "stdout",
     "output_type": "stream",
     "text": [
      "7\n"
     ]
    },
    {
     "data": {
      "image/png": "[encoded data removed]",
      "text/plain": [
       "<Figure size 216x216 with 1 Axes>"
      ]
     },
     "metadata": {
      "needs_background": "light"
     },
     "output_type": "display_data"
    }
   ],
   "source": [
    "plot()"
   ]
  },
  {
   "cell_type": "code",
   "execution_count": 20,
   "metadata": {},
   "outputs": [
    {
     "data": {
      "text/plain": [
       "7"
      ]
     },
     "execution_count": 20,
     "metadata": {},
     "output_type": "execute_result"
    }
   ],
   "source": [
    "pos_list(all_pos)\n",
    "len(all_pos)"
   ]
  },
  {
   "cell_type": "code",
   "execution_count": 21,
   "metadata": {},
   "outputs": [
    {
     "name": "stdout",
     "output_type": "stream",
     "text": [
      "self.pos:  [array([2, 1]), array([1, 1]), array([1, 0])] index:  0\n",
      "element:  0 [2 1]\n",
      "short list:  [[array([5, 1])], [array([4, 2]), array([4, 3]), array([3, 3]), array([2, 3]), array([3, 4]), array([3, 5]), array([2, 5])], [array([5, 5])], [array([3, 1])], [array([1, 4])], [array([0, 3])]]\n",
      "candidates:  [4] [[array([3, 1])]]\n",
      "element:  1 [1 1]\n",
      "short list:  [[array([5, 1])], [array([4, 2]), array([4, 3]), array([3, 3]), array([2, 3]), array([3, 4]), array([3, 5]), array([2, 5])], [array([5, 5])], [array([1, 4])], [array([0, 3])]]\n",
      "candidates:  [] []\n",
      "element:  2 [1 0]\n",
      "short list:  [[array([5, 1])], [array([4, 2]), array([4, 3]), array([3, 3]), array([2, 3]), array([3, 4]), array([3, 5]), array([2, 5])], [array([5, 5])], [array([1, 4])], [array([0, 3])]]\n",
      "candidates:  [] []\n",
      "element:  3 [3 1]\n",
      "short list:  [[array([5, 1])], [array([4, 2]), array([4, 3]), array([3, 3]), array([2, 3]), array([3, 4]), array([3, 5]), array([2, 5])], [array([5, 5])], [array([1, 4])], [array([0, 3])]]\n",
      "candidates:  [] []\n",
      "self.pos:  [array([5, 2])] index:  1\n",
      "element:  0 [5 2]\n",
      "short list:  [[array([2, 1]), array([1, 1]), array([1, 0]), array([3, 1])], [array([4, 2]), array([4, 3]), array([3, 3]), array([2, 3]), array([3, 4]), array([3, 5]), array([2, 5])], [array([5, 5])], [array([1, 4])], [array([0, 3])]]\n",
      "candidates:  [2] [[array([4, 2]), array([4, 3]), array([3, 3]), array([2, 3]), array([3, 4]), array([3, 5]), array([2, 5])]]\n",
      "element:  1 [4 2]\n",
      "short list:  [[array([2, 1]), array([1, 1]), array([1, 0]), array([3, 1])], [array([5, 5])], [array([1, 4])], [array([0, 3])]]\n",
      "candidates:  [] []\n",
      "element:  2 [4 3]\n",
      "short list:  [[array([2, 1]), array([1, 1]), array([1, 0]), array([3, 1])], [array([5, 5])], [array([1, 4])], [array([0, 3])]]\n",
      "candidates:  [] []\n",
      "element:  3 [3 3]\n",
      "short list:  [[array([2, 1]), array([1, 1]), array([1, 0]), array([3, 1])], [array([5, 5])], [array([1, 4])], [array([0, 3])]]\n",
      "candidates:  [] []\n",
      "element:  4 [2 3]\n",
      "short list:  [[array([2, 1]), array([1, 1]), array([1, 0]), array([3, 1])], [array([5, 5])], [array([1, 4])], [array([0, 3])]]\n",
      "candidates:  [] []\n",
      "element:  5 [3 4]\n",
      "short list:  [[array([2, 1]), array([1, 1]), array([1, 0]), array([3, 1])], [array([5, 5])], [array([1, 4])], [array([0, 3])]]\n",
      "candidates:  [] []\n",
      "element:  6 [3 5]\n",
      "short list:  [[array([2, 1]), array([1, 1]), array([1, 0]), array([3, 1])], [array([5, 5])], [array([1, 4])], [array([0, 3])]]\n",
      "candidates:  [] []\n",
      "element:  7 [2 5]\n",
      "short list:  [[array([2, 1]), array([1, 1]), array([1, 0]), array([3, 1])], [array([5, 5])], [array([1, 4])], [array([0, 3])]]\n",
      "candidates:  [] []\n",
      "self.pos:  [array([6, 5])] index:  2\n",
      "element:  0 [6 5]\n",
      "short list:  [[array([2, 1]), array([1, 1]), array([1, 0]), array([3, 1])], [array([5, 2]), array([4, 2]), array([4, 3]), array([3, 3]), array([2, 3]), array([3, 4]), array([3, 5]), array([2, 5])], [array([1, 4])], [array([0, 3])]]\n",
      "candidates:  [] []\n",
      "self.pos:  [array([2, 4])] index:  3\n",
      "element:  0 [2 4]\n",
      "short list:  [[array([2, 1]), array([1, 1]), array([1, 0]), array([3, 1])], [array([5, 2]), array([4, 2]), array([4, 3]), array([3, 3]), array([2, 3]), array([3, 4]), array([3, 5]), array([2, 5])], [array([6, 5])], [array([0, 3])]]\n",
      "candidates:  [1] [[array([5, 2]), array([4, 2]), array([4, 3]), array([3, 3]), array([2, 3]), array([3, 4]), array([3, 5]), array([2, 5])]]\n",
      "element:  0 [2 4]\n",
      "short list:  [[array([2, 1]), array([1, 1]), array([1, 0]), array([3, 1])], [array([6, 5])], [array([2, 4]), array([5, 2]), array([4, 2]), array([4, 3]), array([3, 3]), array([2, 3]), array([3, 4]), array([3, 5]), array([2, 5])]]\n",
      "candidates:  [2] [[array([2, 4]), array([5, 2]), array([4, 2]), array([4, 3]), array([3, 3]), array([2, 3]), array([3, 4]), array([3, 5]), array([2, 5])]]\n"
     ]
    },
    {
     "ename": "KeyboardInterrupt",
     "evalue": "",
     "output_type": "error",
     "traceback": [
      "\u001b[0;31m---------------------------------------------------------------------------\u001b[0m",
      "\u001b[0;31mKeyboardInterrupt\u001b[0m                         Traceback (most recent call last)",
      "\u001b[0;32m<ipython-input-21-f679d5d98954>\u001b[0m in \u001b[0;36m<module>\u001b[0;34m\u001b[0m\n\u001b[1;32m      1\u001b[0m \u001b[0;32mfor\u001b[0m \u001b[0mi\u001b[0m \u001b[0;32min\u001b[0m \u001b[0mrange\u001b[0m\u001b[0;34m(\u001b[0m\u001b[0;36m10\u001b[0m\u001b[0;34m)\u001b[0m\u001b[0;34m:\u001b[0m\u001b[0;34m\u001b[0m\u001b[0;34m\u001b[0m\u001b[0m\n\u001b[1;32m      2\u001b[0m     \u001b[0mclear_output\u001b[0m\u001b[0;34m(\u001b[0m\u001b[0mwait\u001b[0m\u001b[0;34m=\u001b[0m\u001b[0;32mTrue\u001b[0m\u001b[0;34m)\u001b[0m\u001b[0;34m\u001b[0m\u001b[0;34m\u001b[0m\u001b[0m\n\u001b[0;32m----> 3\u001b[0;31m     \u001b[0mstep\u001b[0m\u001b[0;34m(\u001b[0m\u001b[0mall_mol\u001b[0m\u001b[0;34m)\u001b[0m\u001b[0;34m\u001b[0m\u001b[0;34m\u001b[0m\u001b[0m\n\u001b[0m\u001b[1;32m      4\u001b[0m     \u001b[0mpos_list\u001b[0m\u001b[0;34m(\u001b[0m\u001b[0mall_pos\u001b[0m\u001b[0;34m)\u001b[0m\u001b[0;34m\u001b[0m\u001b[0;34m\u001b[0m\u001b[0m\n\u001b[1;32m      5\u001b[0m     \u001b[0mplot\u001b[0m\u001b[0;34m(\u001b[0m\u001b[0;34m)\u001b[0m\u001b[0;34m\u001b[0m\u001b[0;34m\u001b[0m\u001b[0m\n",
      "\u001b[0;32m<ipython-input-13-13233f358e67>\u001b[0m in \u001b[0;36mstep\u001b[0;34m(all_mol)\u001b[0m\n\u001b[1;32m      9\u001b[0m     \u001b[0;32mwhile\u001b[0m \u001b[0mi\u001b[0m \u001b[0;34m<\u001b[0m \u001b[0mlen\u001b[0m\u001b[0;34m(\u001b[0m\u001b[0mall_mol\u001b[0m\u001b[0;34m)\u001b[0m\u001b[0;34m:\u001b[0m\u001b[0;34m\u001b[0m\u001b[0;34m\u001b[0m\u001b[0m\n\u001b[1;32m     10\u001b[0m         \u001b[0mall_mol\u001b[0m\u001b[0;34m[\u001b[0m\u001b[0mi\u001b[0m\u001b[0;34m]\u001b[0m\u001b[0;34m.\u001b[0m\u001b[0mmove\u001b[0m\u001b[0;34m(\u001b[0m\u001b[0;34m)\u001b[0m\u001b[0;34m\u001b[0m\u001b[0;34m\u001b[0m\u001b[0m\n\u001b[0;32m---> 11\u001b[0;31m         \u001b[0mall_mol\u001b[0m\u001b[0;34m[\u001b[0m\u001b[0mi\u001b[0m\u001b[0;34m]\u001b[0m\u001b[0;34m.\u001b[0m\u001b[0mcluster_all\u001b[0m\u001b[0;34m(\u001b[0m\u001b[0mi\u001b[0m\u001b[0;34m)\u001b[0m\u001b[0;34m\u001b[0m\u001b[0;34m\u001b[0m\u001b[0m\n\u001b[0m\u001b[1;32m     12\u001b[0m         \u001b[0mi\u001b[0m \u001b[0;34m+=\u001b[0m \u001b[0;36m1\u001b[0m\u001b[0;34m\u001b[0m\u001b[0;34m\u001b[0m\u001b[0m\n",
      "\u001b[0;32m<ipython-input-10-602386a38742>\u001b[0m in \u001b[0;36mcluster_all\u001b[0;34m(self, index)\u001b[0m\n\u001b[1;32m     41\u001b[0m         \u001b[0;32mwhile\u001b[0m \u001b[0mi\u001b[0m \u001b[0;34m!=\u001b[0m \u001b[0mlen\u001b[0m\u001b[0;34m(\u001b[0m\u001b[0mself\u001b[0m\u001b[0;34m.\u001b[0m\u001b[0mpos\u001b[0m\u001b[0;34m)\u001b[0m\u001b[0;34m:\u001b[0m\u001b[0;34m\u001b[0m\u001b[0;34m\u001b[0m\u001b[0m\n\u001b[1;32m     42\u001b[0m             \u001b[0mprint\u001b[0m\u001b[0;34m(\u001b[0m\u001b[0;34m\"element: \"\u001b[0m\u001b[0;34m,\u001b[0m \u001b[0mi\u001b[0m\u001b[0;34m,\u001b[0m \u001b[0mself\u001b[0m\u001b[0;34m.\u001b[0m\u001b[0mpos\u001b[0m\u001b[0;34m[\u001b[0m\u001b[0mi\u001b[0m\u001b[0;34m]\u001b[0m\u001b[0;34m)\u001b[0m\u001b[0;34m\u001b[0m\u001b[0;34m\u001b[0m\u001b[0m\n\u001b[0;32m---> 43\u001b[0;31m             \u001b[0mi\u001b[0m \u001b[0;34m+=\u001b[0m \u001b[0mself\u001b[0m\u001b[0;34m.\u001b[0m\u001b[0mmerge_neighb_all\u001b[0m\u001b[0;34m(\u001b[0m\u001b[0mi\u001b[0m\u001b[0;34m,\u001b[0m \u001b[0mindex\u001b[0m\u001b[0;34m)\u001b[0m\u001b[0;34m\u001b[0m\u001b[0;34m\u001b[0m\u001b[0m\n\u001b[0m\u001b[1;32m     44\u001b[0m             \u001b[0;31m#self.merge_neighb_all(i, index)\u001b[0m\u001b[0;34m\u001b[0m\u001b[0;34m\u001b[0m\u001b[0;34m\u001b[0m\u001b[0m\n\u001b[1;32m     45\u001b[0m             \u001b[0mi\u001b[0m \u001b[0;34m+=\u001b[0m \u001b[0;36m1\u001b[0m\u001b[0;34m\u001b[0m\u001b[0;34m\u001b[0m\u001b[0m\n",
      "\u001b[0;32m<ipython-input-10-602386a38742>\u001b[0m in \u001b[0;36mmerge_neighb_all\u001b[0;34m(self, which_mol, index)\u001b[0m\n\u001b[1;32m     62\u001b[0m         \u001b[0mcandidates\u001b[0m\u001b[0;34m.\u001b[0m\u001b[0mreverse\u001b[0m\u001b[0;34m(\u001b[0m\u001b[0;34m)\u001b[0m\u001b[0;34m\u001b[0m\u001b[0;34m\u001b[0m\u001b[0m\n\u001b[1;32m     63\u001b[0m         \u001b[0;32mfor\u001b[0m \u001b[0mi\u001b[0m \u001b[0;32min\u001b[0m \u001b[0mcandidates\u001b[0m\u001b[0;34m:\u001b[0m\u001b[0;34m\u001b[0m\u001b[0;34m\u001b[0m\u001b[0m\n\u001b[0;32m---> 64\u001b[0;31m             \u001b[0;34m[\u001b[0m\u001b[0mself\u001b[0m\u001b[0;34m.\u001b[0m\u001b[0mpos\u001b[0m\u001b[0;34m.\u001b[0m\u001b[0mappend\u001b[0m\u001b[0;34m(\u001b[0m\u001b[0mj\u001b[0m\u001b[0;34m)\u001b[0m \u001b[0;32mfor\u001b[0m \u001b[0mj\u001b[0m \u001b[0;32min\u001b[0m \u001b[0mall_mol\u001b[0m\u001b[0;34m[\u001b[0m\u001b[0mi\u001b[0m\u001b[0;34m]\u001b[0m\u001b[0;34m.\u001b[0m\u001b[0mpos\u001b[0m\u001b[0;34m]\u001b[0m\u001b[0;34m\u001b[0m\u001b[0;34m\u001b[0m\u001b[0m\n\u001b[0m\u001b[1;32m     65\u001b[0m         \u001b[0;32mfor\u001b[0m \u001b[0mi\u001b[0m \u001b[0;32min\u001b[0m \u001b[0mcandidates\u001b[0m\u001b[0;34m:\u001b[0m\u001b[0;34m\u001b[0m\u001b[0;34m\u001b[0m\u001b[0m\n\u001b[1;32m     66\u001b[0m             \u001b[0;32mdel\u001b[0m \u001b[0mall_mol\u001b[0m\u001b[0;34m[\u001b[0m\u001b[0mi\u001b[0m\u001b[0;34m]\u001b[0m\u001b[0;34m\u001b[0m\u001b[0;34m\u001b[0m\u001b[0m\n",
      "\u001b[0;32m<ipython-input-10-602386a38742>\u001b[0m in \u001b[0;36m<listcomp>\u001b[0;34m(.0)\u001b[0m\n\u001b[1;32m     62\u001b[0m         \u001b[0mcandidates\u001b[0m\u001b[0;34m.\u001b[0m\u001b[0mreverse\u001b[0m\u001b[0;34m(\u001b[0m\u001b[0;34m)\u001b[0m\u001b[0;34m\u001b[0m\u001b[0;34m\u001b[0m\u001b[0m\n\u001b[1;32m     63\u001b[0m         \u001b[0;32mfor\u001b[0m \u001b[0mi\u001b[0m \u001b[0;32min\u001b[0m \u001b[0mcandidates\u001b[0m\u001b[0;34m:\u001b[0m\u001b[0;34m\u001b[0m\u001b[0;34m\u001b[0m\u001b[0m\n\u001b[0;32m---> 64\u001b[0;31m             \u001b[0;34m[\u001b[0m\u001b[0mself\u001b[0m\u001b[0;34m.\u001b[0m\u001b[0mpos\u001b[0m\u001b[0;34m.\u001b[0m\u001b[0mappend\u001b[0m\u001b[0;34m(\u001b[0m\u001b[0mj\u001b[0m\u001b[0;34m)\u001b[0m \u001b[0;32mfor\u001b[0m \u001b[0mj\u001b[0m \u001b[0;32min\u001b[0m \u001b[0mall_mol\u001b[0m\u001b[0;34m[\u001b[0m\u001b[0mi\u001b[0m\u001b[0;34m]\u001b[0m\u001b[0;34m.\u001b[0m\u001b[0mpos\u001b[0m\u001b[0;34m]\u001b[0m\u001b[0;34m\u001b[0m\u001b[0;34m\u001b[0m\u001b[0m\n\u001b[0m\u001b[1;32m     65\u001b[0m         \u001b[0;32mfor\u001b[0m \u001b[0mi\u001b[0m \u001b[0;32min\u001b[0m \u001b[0mcandidates\u001b[0m\u001b[0;34m:\u001b[0m\u001b[0;34m\u001b[0m\u001b[0;34m\u001b[0m\u001b[0m\n\u001b[1;32m     66\u001b[0m             \u001b[0;32mdel\u001b[0m \u001b[0mall_mol\u001b[0m\u001b[0;34m[\u001b[0m\u001b[0mi\u001b[0m\u001b[0;34m]\u001b[0m\u001b[0;34m\u001b[0m\u001b[0;34m\u001b[0m\u001b[0m\n",
      "\u001b[0;31mKeyboardInterrupt\u001b[0m: "
     ]
    }
   ],
   "source": [
    "for i in range(10):\n",
    "    clear_output(wait=True)\n",
    "    step(all_mol)\n",
    "    pos_list(all_pos)\n",
    "    plot()"
   ]
  },
  {
   "cell_type": "code",
   "execution_count": null,
   "metadata": {},
   "outputs": [],
   "source": [
    "merge_nucleus(nuc, all_mol)\n",
    "pos_list(all_pos)\n",
    "nuc"
   ]
  },
  {
   "cell_type": "code",
   "execution_count": null,
   "metadata": {},
   "outputs": [],
   "source": []
  }
 ],
 "metadata": {
  "kernelspec": {
   "display_name": "Python 3",
   "language": "python",
   "name": "python3"
  },
  "language_info": {
   "codemirror_mode": {
    "name": "ipython",
    "version": 3
   },
   "file_extension": ".py",
   "mimetype": "text/x-python",
   "name": "python",
   "nbconvert_exporter": "python",
   "pygments_lexer": "ipython3",
   "version": "3.8.5"
  }
 },
 "nbformat": 4,
 "nbformat_minor": 4
}
