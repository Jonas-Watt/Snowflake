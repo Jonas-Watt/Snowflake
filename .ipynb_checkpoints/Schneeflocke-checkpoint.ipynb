{
 "cells": [
  {
   "cell_type": "code",
   "execution_count": 203,
   "metadata": {},
   "outputs": [],
   "source": [
    "import numpy as np\n",
    "import matplotlib.pyplot as plt\n",
    "from IPython.display import clear_output\n",
    "import copy"
   ]
  },
  {
   "cell_type": "code",
   "execution_count": 204,
   "metadata": {},
   "outputs": [],
   "source": [
    "map = (50, 50)\n",
    "nuc = [np.array([round(map[0]/2), round(map[1]/2)])]\n",
    "free_zone = [[np.array(round(map[0]/4)), np.array(round(map[1]/4))], \n",
    "             [np.array(round(map[0]/4) + round(map[0]/2)), np.array(round(map[1]/4) + round(map[1]/2))]]\n",
    "all_mol = []\n",
    "all_pos = []"
   ]
  },
  {
   "cell_type": "code",
   "execution_count": 205,
   "metadata": {},
   "outputs": [
    {
     "data": {
      "text/plain": [
       "[[array(12), array(12)], [array(37), array(37)]]"
      ]
     },
     "execution_count": 205,
     "metadata": {},
     "output_type": "execute_result"
    }
   ],
   "source": [
    "free_zone"
   ]
  },
  {
   "cell_type": "code",
   "execution_count": 225,
   "metadata": {},
   "outputs": [],
   "source": [
    "class Molecule:\n",
    "    def __init__(self):\n",
    "        self.pos = [self.spawn()]\n",
    "        \n",
    "    def spawn(self):\n",
    "        global all_mol\n",
    "        global free_zone\n",
    "        while True:\n",
    "            pos = np.array([round(map[0]/2), round(map[1]/2)])\n",
    "            while free_zone[0][0] < pos[0] and pos[0] < free_zone[1][0] and free_zone[0][1] < pos[1] and pos[1] < free_zone[1][1]:\n",
    "                pos = np.array([np.random.randint(0, map[0] + 1), np.random.randint(0, map[1] + 1)])\n",
    "            if any([any([i.all() for i in pos == mol.pos]) for mol in all_mol]):\n",
    "                continue\n",
    "            if any([i.all() for i in pos == nuc]):\n",
    "                continue\n",
    "            return pos\n",
    "        \n",
    "    def cluster(self, index):\n",
    "        i = 0\n",
    "        while i < len(self.pos):\n",
    "            self.merge_neighb(i, index)\n",
    "            i += 1\n",
    "        \n",
    "    def merge_neighb(self, which_mol, index):\n",
    "        global all_mol\n",
    "        short_pos_list = [all_mol[i].pos for i in range(index + 1, len(all_mol))]\n",
    "        neighb = [[(abs((self.pos[which_mol] - i)[0]) + abs((self.pos[which_mol] - i)[1])) == 1\n",
    "                   for i in mol] for mol in short_pos_list]\n",
    "        candidates = []\n",
    "        for mol in range(0, len(neighb)):\n",
    "            if any(neighb[mol]):\n",
    "                candidates.append(mol + index + 1)\n",
    "        candidates.reverse()\n",
    "        for i in candidates:\n",
    "            for j in all_mol[i].pos:\n",
    "                self.pos.append(j)\n",
    "            del all_mol[i]\n",
    "            \n",
    "    ####################################################################################\n",
    "    \n",
    "    def cluster_all(self, index):\n",
    "        i = 0\n",
    "        while i != len(self.pos):\n",
    "            index += self.merge_neighb_all(i, index)\n",
    "            i += 1\n",
    "            \n",
    "    def merge_neighb_all(self, which_mol, index):\n",
    "        global all_mol\n",
    "        short_pos_list = [all_mol[i].pos for i in range(0, len(all_mol)) if i != index]\n",
    "        neighb = [[(abs((self.pos[which_mol] - i)[0]) + abs((self.pos[which_mol] - i)[1])) == 1\n",
    "                   for i in mol] for mol in short_pos_list]\n",
    "        candidates = []\n",
    "        for mol in range(0, len(neighb)):\n",
    "            if any(neighb[mol]):\n",
    "                # der Kandidat kann vor dem Molekül sein, also nicht + 1\n",
    "                if mol < index:\n",
    "                    candidates.append(mol)\n",
    "                else:\n",
    "                    candidates.append(mol + 1)\n",
    "        candidates.reverse()\n",
    "        for i in candidates:\n",
    "            [self.pos.append(j) for j in all_mol[i].pos]\n",
    "        for i in candidates:\n",
    "            del all_mol[i]\n",
    "        counter = 0\n",
    "        for i in candidates:\n",
    "            if i <= index:\n",
    "                counter -= 1\n",
    "        return counter\n",
    "        \n",
    "    def move(self):\n",
    "        global all_pos\n",
    "        if np.random.rand() > 0.5:\n",
    "            dir = np.array([0, np.random.choice([-1, 1])])\n",
    "        else:\n",
    "            dir = np.array([np.random.choice([-1, 1]), 0])\n",
    "        pot_pos = copy.deepcopy(self.pos)\n",
    "        for i in pot_pos:\n",
    "            i += dir\n",
    "        if sum([any([any([i.all() for i in pos == mol.pos]) for pos in pot_pos]) for mol in all_mol]) <= 1:\n",
    "            self.pos = pot_pos\n",
    "        "
   ]
  },
  {
   "cell_type": "code",
   "execution_count": 226,
   "metadata": {},
   "outputs": [],
   "source": [
    "# nicht gleich, sondern next to\n",
    "def merge_nucleus(nuc, all_mol):\n",
    "    delete = []\n",
    "    for mol in all_mol:\n",
    "        out = False\n",
    "        for pos_mol in mol.pos:\n",
    "            for pos in nuc: \n",
    "                if (abs(pos[0] - pos_mol[0]) + abs(pos[1] - pos_mol[1])) == 1:\n",
    "                    [nuc.append(i) for i in mol.pos]\n",
    "                    delete.append(all_mol.index(mol))\n",
    "                    out = True\n",
    "                    break\n",
    "            if out:\n",
    "                break\n",
    "    delete.reverse()\n",
    "    for i in delete:\n",
    "        del all_mol[i]"
   ]
  },
  {
   "cell_type": "code",
   "execution_count": 227,
   "metadata": {},
   "outputs": [],
   "source": [
    "# Visualisiert die Moleküle\n",
    "def plot():\n",
    "    print(len(all_pos))\n",
    "    plt.figure(figsize=(7, 7))\n",
    "    plt.plot(*np.array([item for sublist in all_pos for item in sublist]).T, 'bs', *np.array(nuc).T, 'rs')\n",
    "    #plt.scatter(*np.array([item for sublist in nuc for item in sublist]).T, marker = 's')\n",
    "    #plt.axis([-1, map[0]+1, -1, map[0]+1])\n",
    "    plt.show()"
   ]
  },
  {
   "cell_type": "code",
   "execution_count": 228,
   "metadata": {},
   "outputs": [],
   "source": [
    "def cluster(all_mol):\n",
    "    i = 0\n",
    "    while i < len(all_mol):\n",
    "        all_mol[i].cluster(i)\n",
    "        i += 1\n",
    "        \n",
    "def step(all_mol):\n",
    "    i = 0\n",
    "    while i < len(all_mol):\n",
    "        all_mol[i].move()\n",
    "        all_mol[i].cluster_all(i)\n",
    "        i += 1"
   ]
  },
  {
   "cell_type": "code",
   "execution_count": 229,
   "metadata": {},
   "outputs": [],
   "source": [
    "def pos_list(all_pos):\n",
    "    all_pos.clear()\n",
    "    for mol in all_mol:\n",
    "        all_pos.append(mol.pos)"
   ]
  },
  {
   "cell_type": "markdown",
   "metadata": {},
   "source": [
    "1. spawn n molecules"
   ]
  },
  {
   "cell_type": "code",
   "execution_count": null,
   "metadata": {},
   "outputs": [],
   "source": []
  },
  {
   "cell_type": "code",
   "execution_count": null,
   "metadata": {},
   "outputs": [],
   "source": []
  },
  {
   "cell_type": "code",
   "execution_count": null,
   "metadata": {},
   "outputs": [],
   "source": []
  },
  {
   "cell_type": "code",
   "execution_count": 235,
   "metadata": {},
   "outputs": [],
   "source": [
    "# spawnt alles Moleküle\n",
    "\n",
    "all_mol = []\n",
    "\n",
    "for i in range(200):\n",
    "    new_mol = Molecule()\n",
    "    all_mol.append(new_mol)"
   ]
  },
  {
   "cell_type": "code",
   "execution_count": 236,
   "metadata": {},
   "outputs": [],
   "source": [
    "# vereint benachbarte Moleküle\n",
    "\n",
    "cluster(all_mol)"
   ]
  },
  {
   "cell_type": "code",
   "execution_count": 237,
   "metadata": {},
   "outputs": [],
   "source": [
    "nuc = [np.array([round(map[0]/2), round(map[1]/2)])]\n",
    "pos_list(all_pos)"
   ]
  },
  {
   "cell_type": "code",
   "execution_count": 241,
   "metadata": {},
   "outputs": [
    {
     "data": {
      "text/plain": [
       "160"
      ]
     },
     "execution_count": 241,
     "metadata": {},
     "output_type": "execute_result"
    }
   ],
   "source": [
    "pos_list(all_pos)\n",
    "len(all_pos)"
   ]
  },
  {
   "cell_type": "code",
   "execution_count": 239,
   "metadata": {},
   "outputs": [
    {
     "name": "stdout",
     "output_type": "stream",
     "text": [
      "160\n"
     ]
    },
    {
     "data": {
      "image/png": "[encoded data removed]",
      "text/plain": [
       "<Figure size 504x504 with 1 Axes>"
      ]
     },
     "metadata": {
      "needs_background": "light"
     },
     "output_type": "display_data"
    }
   ],
   "source": [
    "plot()"
   ]
  },
  {
   "cell_type": "code",
   "execution_count": 240,
   "metadata": {},
   "outputs": [
    {
     "data": {
      "text/plain": [
       "160"
      ]
     },
     "execution_count": 240,
     "metadata": {},
     "output_type": "execute_result"
    }
   ],
   "source": [
    "pos_list(all_pos)\n",
    "len(all_pos)"
   ]
  },
  {
   "cell_type": "code",
   "execution_count": 188,
   "metadata": {},
   "outputs": [
    {
     "data": {
      "text/plain": [
       "[array([2, 2]),\n",
       " array([4, 0]),\n",
       " array([4, 1]),\n",
       " array([3, 0]),\n",
       " array([3, 1]),\n",
       " array([2, 0]),\n",
       " array([2, 1]),\n",
       " array([1, 0]),\n",
       " array([0, 0]),\n",
       " array([1, 3]),\n",
       " array([2, 3]),\n",
       " array([1, 2]),\n",
       " array([2, 4]),\n",
       " array([3, 3]),\n",
       " array([0, 2]),\n",
       " array([2, 5])]"
      ]
     },
     "execution_count": 188,
     "metadata": {},
     "output_type": "execute_result"
    }
   ],
   "source": [
    "merge_nucleus(nuc, all_mol)\n",
    "pos_list(all_pos)\n",
    "nuc"
   ]
  },
  {
   "cell_type": "code",
   "execution_count": 14,
   "metadata": {},
   "outputs": [
    {
     "name": "stdout",
     "output_type": "stream",
     "text": [
      "26\n"
     ]
    },
    {
     "data": {
      "image/png": "[encoded data removed]",
      "text/plain": [
       "<Figure size 504x504 with 1 Axes>"
      ]
     },
     "metadata": {
      "needs_background": "light"
     },
     "output_type": "display_data"
    }
   ],
   "source": [
    "for i in range(100):\n",
    "    clear_output(wait=True)\n",
    "    step(all_mol)\n",
    "    pos_list(all_pos)\n",
    "    plot()"
   ]
  },
  {
   "cell_type": "code",
   "execution_count": 20,
   "metadata": {},
   "outputs": [
    {
     "data": {
      "image/png": "[encoded data removed]",
      "text/plain": [
       "<Figure size 360x216 with 1 Axes>"
      ]
     },
     "metadata": {
      "needs_background": "light"
     },
     "output_type": "display_data"
    },
    {
     "name": "stderr",
     "output_type": "stream",
     "text": [
      "MovieWriter ffmpeg unavailable; using Pillow instead.\n"
     ]
    }
   ],
   "source": [
    "import numpy as np\n",
    "import matplotlib.pyplot as plt\n",
    "from matplotlib.animation import FuncAnimation\n",
    "fig, ax = plt.subplots(figsize=(5, 3))\n",
    "ax.set(xlim=(-3, 3), ylim=(-1, 1))\n",
    "x = np.linspace(-3, 3, 91)\n",
    "t = np.linspace(1, 25, 30)\n",
    "X2, T2 = np.meshgrid(x, t)\n",
    " \n",
    "sinT2 = np.sin(2*np.pi*T2/T2.max())\n",
    "F = 0.9*sinT2*np.sinc(X2*(1 + sinT2))\n",
    "line = ax.plot(x, F[0, :], color='k', lw=2)[0]\n",
    "def animate(i):\n",
    "    line.set_ydata(F[i, :])\n",
    "anim = FuncAnimation(\n",
    "    fig, animate, interval=100, frames=len(t)-1)\n",
    " \n",
    "plt.draw()\n",
    "plt.show()\n",
    "\n",
    "anim.save('filename.gif')"
   ]
  },
  {
   "cell_type": "code",
   "execution_count": null,
   "metadata": {},
   "outputs": [],
   "source": []
  }
 ],
 "metadata": {
  "kernelspec": {
   "display_name": "Python 3",
   "language": "python",
   "name": "python3"
  },
  "language_info": {
   "codemirror_mode": {
    "name": "ipython",
    "version": 3
   },
   "file_extension": ".py",
   "mimetype": "text/x-python",
   "name": "python",
   "nbconvert_exporter": "python",
   "pygments_lexer": "ipython3",
   "version": "3.8.5"
  }
 },
 "nbformat": 4,
 "nbformat_minor": 4
}
