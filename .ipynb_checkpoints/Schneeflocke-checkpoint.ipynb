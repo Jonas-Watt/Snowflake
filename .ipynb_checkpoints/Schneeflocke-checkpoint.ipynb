{
 "cells": [
  {
   "cell_type": "code",
   "execution_count": 60,
   "metadata": {},
   "outputs": [],
   "source": [
    "import numpy as np\n",
    "import matplotlib.pyplot as plt\n",
    "from IPython.display import clear_output\n",
    "import copy"
   ]
  },
  {
   "cell_type": "code",
   "execution_count": 61,
   "metadata": {},
   "outputs": [],
   "source": [
    "map = (10, 10)\n",
    "nuc = [np.array([round(map[0]/2), round(map[1]/2)])]\n",
    "all_mol = []\n",
    "all_pos = []"
   ]
  },
  {
   "cell_type": "code",
   "execution_count": 62,
   "metadata": {},
   "outputs": [],
   "source": [
    "class Molecule:\n",
    "    def __init__(self):\n",
    "        self.pos = [self.spawn()]\n",
    "        \n",
    "    def spawn(self):\n",
    "        global all_mol\n",
    "        while True:\n",
    "            pos = np.array([0, 0])\n",
    "            while all(pos == [0,0]):\n",
    "                pos = np.array([np.random.randint(0, map[0] + 1), np.random.randint(0, map[1] + 1)])\n",
    "            if any([any([i.all() for i in pos == mol.pos]) for mol in all_mol]):\n",
    "                continue\n",
    "            return pos\n",
    "        \n",
    "    def cluster(self, index):\n",
    "        i = 0\n",
    "        while i != len(self.pos):\n",
    "            self.merge_neighb(i, index)\n",
    "            i += 1\n",
    "        \n",
    "    def merge_neighb(self, which_mol, index):\n",
    "        global all_mol\n",
    "        short_pos_list = [all_mol[i].pos for i in range(index + 1, len(all_mol) - 1)]\n",
    "        neighb = [[(abs((self.pos[which_mol] - i)[0]) + abs((self.pos[which_mol] - i)[1])) == 1\n",
    "                   for i in mol] for mol in short_pos_list]\n",
    "        candidates = []\n",
    "        for mol in range(0, len(neighb) - 1):\n",
    "            if any(neighb[mol]):\n",
    "                candidates.append(mol + index + 1)\n",
    "        candidates.reverse()\n",
    "        for i in candidates:\n",
    "            for j in all_mol[i].pos:\n",
    "                self.pos.append(j)\n",
    "            del all_mol[i]\n",
    "        \n",
    "    def move(self):\n",
    "        global all_pos\n",
    "        if np.random.rand() > 0.5:\n",
    "            dir = np.array([0, np.random.choice([-1, 1])])\n",
    "        else:\n",
    "            dir = np.array([np.random.choice([-1, 1]), 0])\n",
    "        pot_pos = copy.deepcopy(self.pos)\n",
    "        for i in pot_pos:\n",
    "            i += dir\n",
    "        if sum([any([any([i.all() for i in pos == mol.pos]) for pos in pot_pos]) for mol in all_mol]) <= 1:\n",
    "            self.pos = pot_pos\n",
    "        "
   ]
  },
  {
   "cell_type": "code",
   "execution_count": 63,
   "metadata": {},
   "outputs": [],
   "source": [
    "# nicht gleich, sondern next to\n",
    "def merge_nucleus(nuc, all_mol):\n",
    "    for mol in all_mol:\n",
    "        for pos_mol in mol.pos:\n",
    "            for pos in nuc: \n",
    "                if abs(pos[0] - pos_mol[0]) + abs(pos[1] - pos_mol[1]) == 1:\n",
    "                    [nuc.append(i) for i in mol.pos]\n",
    "                    del all_mol[all_mol.index(mol)]\n",
    "                    return"
   ]
  },
  {
   "cell_type": "code",
   "execution_count": 77,
   "metadata": {},
   "outputs": [],
   "source": [
    "# Visualisiert die Moleküle\n",
    "def plot():\n",
    "    print(len(all_pos))\n",
    "    plt.figure(figsize=(4, 4))\n",
    "    plt.plot(*np.array([item for sublist in all_pos for item in sublist]).T, 'bs', *np.array(nuc).T, 'rs')\n",
    "    #plt.scatter(*np.array([item for sublist in nuc for item in sublist]).T, marker = 's')\n",
    "    #plt.axis([-1, map[0]+1, -1, map[0]+1])\n",
    "    plt.show()"
   ]
  },
  {
   "cell_type": "code",
   "execution_count": 78,
   "metadata": {},
   "outputs": [],
   "source": [
    "def cluster(all_mol):\n",
    "    i = 0\n",
    "    while i < len(all_mol): # <, da der letzte keinen Nachbarn ahben kann, bzw. schon alle hat\n",
    "        all_mol[i].cluster(i)\n",
    "        i += 1\n",
    "        \n",
    "def step(all_mol):\n",
    "    i = 0\n",
    "    while i < len(all_mol): # <, da der letzte keinen Nachbarn ahben kann, bzw. schon alle hat\n",
    "        all_mol[i].move()\n",
    "        all_mol[i].cluster(i)\n",
    "        i += 1"
   ]
  },
  {
   "cell_type": "code",
   "execution_count": 79,
   "metadata": {},
   "outputs": [],
   "source": [
    "def pos_list(all_pos):\n",
    "    all_pos.clear()\n",
    "    for mol in all_mol:\n",
    "        all_pos.append(mol.pos)"
   ]
  },
  {
   "cell_type": "code",
   "execution_count": 80,
   "metadata": {},
   "outputs": [],
   "source": [
    "# spawnt alles Moleküle\n",
    "\n",
    "all_mol = []\n",
    "\n",
    "for i in range(75):\n",
    "    new_mol = Molecule()\n",
    "    all_mol.append(new_mol)"
   ]
  },
  {
   "cell_type": "code",
   "execution_count": 82,
   "metadata": {},
   "outputs": [
    {
     "name": "stdout",
     "output_type": "stream",
     "text": [
      "[array([4, 8])]\n",
      "[array([7, 8])]\n",
      "[array([2, 2])]\n",
      "[array([0, 9])]\n",
      "[array([4, 4])]\n",
      "[array([7, 3])]\n",
      "[array([3, 4])]\n",
      "[array([6, 6])]\n",
      "[array([3, 6])]\n",
      "[array([6, 8])]\n",
      "[array([2, 6])]\n",
      "[array([0, 1])]\n",
      "[array([2, 9])]\n",
      "[array([6, 3])]\n",
      "[array([9, 0])]\n",
      "[array([10,  5])]\n",
      "[array([4, 3])]\n",
      "[array([3, 9])]\n",
      "[array([ 2, 10])]\n",
      "[array([7, 0])]\n",
      "[array([8, 5])]\n",
      "[array([10,  9])]\n",
      "[array([0, 2])]\n",
      "[array([5, 6])]\n",
      "[array([3, 0])]\n",
      "[array([7, 9])]\n",
      "[array([9, 3])]\n",
      "[array([2, 7])]\n",
      "[array([5, 7])]\n",
      "[array([ 4, 10])]\n",
      "[array([9, 7])]\n",
      "[array([4, 6])]\n",
      "[array([6, 1])]\n",
      "[array([7, 5])]\n",
      "[array([8, 8])]\n",
      "[array([1, 8])]\n",
      "[array([5, 3])]\n",
      "[array([6, 4])]\n",
      "[array([3, 8])]\n",
      "[array([0, 5])]\n",
      "[array([5, 4])]\n",
      "[array([2, 3])]\n",
      "[array([5, 1])]\n",
      "[array([8, 7])]\n",
      "[array([10,  2])]\n",
      "[array([3, 2])]\n",
      "[array([7, 6])]\n",
      "[array([9, 1])]\n",
      "[array([1, 1])]\n",
      "[array([5, 2])]\n",
      "[array([1, 3])]\n",
      "[array([7, 7])]\n",
      "[array([4, 5])]\n",
      "[array([7, 4])]\n",
      "[array([0, 4])]\n",
      "[array([9, 6])]\n",
      "[array([10,  7])]\n",
      "[array([4, 9])]\n",
      "[array([ 8, 10])]\n",
      "[array([1, 5])]\n",
      "[array([1, 7])]\n",
      "[array([ 5, 10])]\n",
      "[array([1, 9])]\n",
      "[array([8, 4])]\n",
      "[array([6, 9])]\n",
      "[array([8, 2])]\n",
      "[array([9, 4])]\n",
      "[array([8, 6])]\n",
      "[array([2, 0])]\n",
      "[array([0, 8])]\n",
      "[array([4, 2])]\n",
      "[array([8, 3])]\n",
      "[array([4, 1])]\n",
      "[array([9, 5])]\n",
      "[array([4, 7])]\n"
     ]
    }
   ],
   "source": [
    "for i in all_mol:\n",
    "    print(i.pos)"
   ]
  },
  {
   "cell_type": "code",
   "execution_count": 83,
   "metadata": {},
   "outputs": [],
   "source": [
    "# vereint benachbarte Moleküle\n",
    "\n",
    "cluster(all_mol)"
   ]
  },
  {
   "cell_type": "code",
   "execution_count": 84,
   "metadata": {},
   "outputs": [],
   "source": [
    "nuc = [np.array([round(map[0]/2), round(map[1]/2)])]\n",
    "pos_list(all_pos)"
   ]
  },
  {
   "cell_type": "code",
   "execution_count": 101,
   "metadata": {},
   "outputs": [
    {
     "data": {
      "text/plain": [
       "8"
      ]
     },
     "execution_count": 101,
     "metadata": {},
     "output_type": "execute_result"
    }
   ],
   "source": [
    "pos_list(all_pos)\n",
    "len(all_pos)"
   ]
  },
  {
   "cell_type": "code",
   "execution_count": 102,
   "metadata": {},
   "outputs": [
    {
     "name": "stdout",
     "output_type": "stream",
     "text": [
      "8\n"
     ]
    },
    {
     "data": {
      "image/png": "[encoded data removed]",
      "text/plain": [
       "<Figure size 288x288 with 1 Axes>"
      ]
     },
     "metadata": {
      "needs_background": "light"
     },
     "output_type": "display_data"
    }
   ],
   "source": [
    "plot()"
   ]
  },
  {
   "cell_type": "code",
   "execution_count": 100,
   "metadata": {},
   "outputs": [
    {
     "data": {
      "text/plain": [
       "[[array([ 9, -1]), array([9, 0])],\n",
       " [array([10,  4])],\n",
       " [array([8, 0])],\n",
       " [array([10, 10])],\n",
       " [array([3, 1]), array([2, 1])],\n",
       " [array([9, 2])],\n",
       " [array([ 9, 10])],\n",
       " [array([4, 6])]]"
      ]
     },
     "execution_count": 100,
     "metadata": {},
     "output_type": "execute_result"
    }
   ],
   "source": [
    "all_pos"
   ]
  },
  {
   "cell_type": "code",
   "execution_count": 99,
   "metadata": {},
   "outputs": [
    {
     "data": {
      "text/plain": [
       "[array([5, 5]),\n",
       " array([4, 8]),\n",
       " array([4, 9]),\n",
       " array([3, 8]),\n",
       " array([ 4, 10]),\n",
       " array([3, 9]),\n",
       " array([ 5, 10]),\n",
       " array([2, 9]),\n",
       " array([1, 9]),\n",
       " array([ 2, 10]),\n",
       " array([1, 8]),\n",
       " array([0, 9]),\n",
       " array([0, 8]),\n",
       " array([1, 7]),\n",
       " array([2, 7]),\n",
       " array([2, 6]),\n",
       " array([3, 6]),\n",
       " array([4, 6]),\n",
       " array([4, 5]),\n",
       " array([5, 6]),\n",
       " array([4, 4]),\n",
       " array([5, 7]),\n",
       " array([6, 6]),\n",
       " array([5, 4]),\n",
       " array([4, 3]),\n",
       " array([3, 4]),\n",
       " array([7, 6]),\n",
       " array([6, 4]),\n",
       " array([5, 3]),\n",
       " array([4, 2]),\n",
       " array([8, 6]),\n",
       " array([7, 7]),\n",
       " array([7, 5]),\n",
       " array([7, 4]),\n",
       " array([6, 3]),\n",
       " array([5, 2]),\n",
       " array([4, 1]),\n",
       " array([3, 2]),\n",
       " array([9, 6]),\n",
       " array([8, 7]),\n",
       " array([8, 5]),\n",
       " array([7, 8]),\n",
       " array([8, 4]),\n",
       " array([7, 3]),\n",
       " array([5, 1]),\n",
       " array([2, 2]),\n",
       " array([9, 7]),\n",
       " array([8, 8]),\n",
       " array([7, 9]),\n",
       " array([6, 8]),\n",
       " array([8, 3]),\n",
       " array([9, 4]),\n",
       " array([6, 1]),\n",
       " array([2, 3]),\n",
       " array([10,  7]),\n",
       " array([6, 9]),\n",
       " array([8, 2]),\n",
       " array([9, 3]),\n",
       " array([1, 3]),\n",
       " array([9, 5]),\n",
       " array([0, 2]),\n",
       " array([1, 2]),\n",
       " array([0, 3]),\n",
       " array([0, 5]),\n",
       " array([1, 5]),\n",
       " array([0, 4])]"
      ]
     },
     "execution_count": 99,
     "metadata": {},
     "output_type": "execute_result"
    }
   ],
   "source": [
    "merge_nucleus(nuc, all_mol)\n",
    "pos_list(all_pos)\n",
    "nuc"
   ]
  },
  {
   "cell_type": "code",
   "execution_count": 96,
   "metadata": {},
   "outputs": [
    {
     "name": "stdout",
     "output_type": "stream",
     "text": [
      "9\n"
     ]
    },
    {
     "data": {
      "image/png": "[encoded data removed]",
      "text/plain": [
       "<Figure size 288x288 with 1 Axes>"
      ]
     },
     "metadata": {
      "needs_background": "light"
     },
     "output_type": "display_data"
    }
   ],
   "source": [
    "for i in range(1):\n",
    "    clear_output(wait=True)\n",
    "    step(all_mol)\n",
    "    pos_list(all_pos)\n",
    "    plot()"
   ]
  }
 ],
 "metadata": {
  "kernelspec": {
   "display_name": "Python 3",
   "language": "python",
   "name": "python3"
  },
  "language_info": {
   "codemirror_mode": {
    "name": "ipython",
    "version": 3
   },
   "file_extension": ".py",
   "mimetype": "text/x-python",
   "name": "python",
   "nbconvert_exporter": "python",
   "pygments_lexer": "ipython3",
   "version": "3.8.5"
  }
 },
 "nbformat": 4,
 "nbformat_minor": 4
}
