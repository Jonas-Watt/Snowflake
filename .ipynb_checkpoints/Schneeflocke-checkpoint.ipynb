{
 "cells": [
  {
   "cell_type": "code",
   "execution_count": 1,
   "metadata": {},
   "outputs": [],
   "source": [
    "import numpy as np\n",
    "import matplotlib.pyplot as plt"
   ]
  },
  {
   "cell_type": "code",
   "execution_count": 268,
   "metadata": {},
   "outputs": [],
   "source": [
    "map = (9, 9)\n",
    "nuc = np.array([[5, 5]])\n",
    "all_mol = []"
   ]
  },
  {
   "cell_type": "code",
   "execution_count": 311,
   "metadata": {},
   "outputs": [],
   "source": [
    "class Molecule:\n",
    "    def __init__(self):\n",
    "        self.pos = [self.spawn()]\n",
    "        \n",
    "    def spawn(self):\n",
    "        global all_mol\n",
    "        while True:\n",
    "            pos = np.array([np.random.randint(0, map[0] + 1), np.random.randint(0, map[1] + 1)])\n",
    "            if any([any([i.all() for i in pos == mol.pos]) for mol in all_mol]):\n",
    "                continue\n",
    "            return pos\n",
    "        \n",
    "    def nextto(self):\n",
    "        global all_mo\n",
    "        neighb = [[[abs((j - i)[0]) + abs((j - i)[1]) == 1 for i in mol.pos] for mol in all_mol] for j in self.pos]\n",
    "        return neighb\n",
    "        #[[ for i in j] for j in neighb]\n",
    "        \n",
    "    def move(self):\n",
    "        dir = np.array([np.random.choice([-1, 1]), np.random.choice([-1, 1])])\n",
    "        self.pos += dir"
   ]
  },
  {
   "cell_type": "code",
   "execution_count": 312,
   "metadata": {},
   "outputs": [],
   "source": [
    "all_mol = []\n",
    "\n",
    "for i in range(30):\n",
    "    new_mol = Molecule()\n",
    "    all_mol.append(new_mol)"
   ]
  },
  {
   "cell_type": "code",
   "execution_count": 317,
   "metadata": {},
   "outputs": [
    {
     "data": {
      "text/plain": [
       "[[[True],\n",
       "  [False],\n",
       "  [False],\n",
       "  [False],\n",
       "  [False],\n",
       "  [False],\n",
       "  [False],\n",
       "  [False],\n",
       "  [False],\n",
       "  [False],\n",
       "  [False],\n",
       "  [False],\n",
       "  [False],\n",
       "  [False],\n",
       "  [False],\n",
       "  [False],\n",
       "  [False],\n",
       "  [False],\n",
       "  [False],\n",
       "  [False],\n",
       "  [True],\n",
       "  [False],\n",
       "  [False],\n",
       "  [False],\n",
       "  [False],\n",
       "  [False],\n",
       "  [False],\n",
       "  [False],\n",
       "  [False],\n",
       "  [True]]]"
      ]
     },
     "execution_count": 317,
     "metadata": {},
     "output_type": "execute_result"
    }
   ],
   "source": [
    "all_mol[9].nextto()"
   ]
  },
  {
   "cell_type": "code",
   "execution_count": 314,
   "metadata": {},
   "outputs": [],
   "source": [
    "all_pos = []\n",
    "\n",
    "for mol in all_mol:\n",
    "    all_pos.append(mol.pos)"
   ]
  },
  {
   "cell_type": "code",
   "execution_count": 315,
   "metadata": {},
   "outputs": [
    {
     "data": {
      "text/plain": [
       "[[array([7, 2])],\n",
       " [array([5, 1])],\n",
       " [array([3, 5])],\n",
       " [array([3, 2])],\n",
       " [array([6, 4])],\n",
       " [array([5, 8])],\n",
       " [array([3, 7])],\n",
       " [array([6, 8])],\n",
       " [array([3, 0])],\n",
       " [array([7, 1])],\n",
       " [array([0, 2])],\n",
       " [array([0, 9])],\n",
       " [array([6, 0])],\n",
       " [array([1, 1])],\n",
       " [array([9, 5])],\n",
       " [array([6, 6])],\n",
       " [array([8, 9])],\n",
       " [array([8, 2])],\n",
       " [array([9, 6])],\n",
       " [array([9, 3])],\n",
       " [array([7, 0])],\n",
       " [array([4, 3])],\n",
       " [array([0, 0])],\n",
       " [array([8, 0])],\n",
       " [array([2, 7])],\n",
       " [array([8, 5])],\n",
       " [array([2, 9])],\n",
       " [array([7, 4])],\n",
       " [array([9, 1])],\n",
       " [array([6, 1])]]"
      ]
     },
     "execution_count": 315,
     "metadata": {},
     "output_type": "execute_result"
    }
   ],
   "source": [
    "all_pos"
   ]
  },
  {
   "cell_type": "code",
   "execution_count": 316,
   "metadata": {},
   "outputs": [
    {
     "data": {
      "image/png": "[encoded data removed]",
      "text/plain": [
       "<Figure size 216x216 with 1 Axes>"
      ]
     },
     "metadata": {
      "needs_background": "light"
     },
     "output_type": "display_data"
    }
   ],
   "source": [
    "plt.figure(figsize=(3, 3))\n",
    "plt.scatter(*np.array(all_pos).T, marker = 's')\n",
    "plt.axis([-1, map[0]+1, -1, map[0]+1])\n",
    "plt.show()"
   ]
  },
  {
   "cell_type": "code",
   "execution_count": null,
   "metadata": {},
   "outputs": [],
   "source": []
  }
 ],
 "metadata": {
  "kernelspec": {
   "display_name": "Python 3",
   "language": "python",
   "name": "python3"
  },
  "language_info": {
   "codemirror_mode": {
    "name": "ipython",
    "version": 3
   },
   "file_extension": ".py",
   "mimetype": "text/x-python",
   "name": "python",
   "nbconvert_exporter": "python",
   "pygments_lexer": "ipython3",
   "version": "3.8.5"
  }
 },
 "nbformat": 4,
 "nbformat_minor": 4
}
